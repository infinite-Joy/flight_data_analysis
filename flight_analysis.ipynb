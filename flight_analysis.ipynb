{
 "cells": [
  {
   "cell_type": "markdown",
   "metadata": {},
   "source": [
    "Find all the excel files in the folder.You may notice that the files have been saved in two folders 2016 and 2017. We will take only those airlines which have data for both 2016 and 2017."
   ]
  },
  {
   "cell_type": "markdown",
   "metadata": {},
   "source": [
    "Walk though all the excel files and only consider the files which have data for both 2016 and 2017"
   ]
  },
  {
   "cell_type": "code",
   "execution_count": 27,
   "metadata": {},
   "outputs": [
    {
     "data": {
      "text/plain": [
       "17"
      ]
     },
     "execution_count": 27,
     "metadata": {},
     "output_type": "execute_result"
    }
   ],
   "source": [
    "import os\n",
    "from os import listdir\n",
    "from os.path import isfile, join\n",
    "\n",
    "def company_16_17_excel_files(path, ext):\n",
    "    all_files = {}\n",
    "    for root, dirs, files in os.walk(path):\n",
    "        for file in files:\n",
    "            if file.endswith(ext):\n",
    "                try:\n",
    "                    key = file[:-7]\n",
    "                    whole_path = os.path.join(root, file)\n",
    "                    if key in all_files:\n",
    "                        all_files[key].append(whole_path)\n",
    "                        yield key, all_files[key]\n",
    "                    else:\n",
    "                        all_files[key] = [whole_path]\n",
    "                except KeyError:\n",
    "                    pass\n",
    "        \n",
    "\n",
    "files = company_16_17_excel_files(os.getcwd(), 'xlsx')"
   ]
  },
  {
   "cell_type": "code",
   "execution_count": null,
   "metadata": {
    "collapsed": true
   },
   "outputs": [],
   "source": [
    "Now we see that there are th"
   ]
  }
 ],
 "metadata": {
  "kernelspec": {
   "display_name": "Python 3",
   "language": "python",
   "name": "python3"
  },
  "language_info": {
   "codemirror_mode": {
    "name": "ipython",
    "version": 3
   },
   "file_extension": ".py",
   "mimetype": "text/x-python",
   "name": "python",
   "nbconvert_exporter": "python",
   "pygments_lexer": "ipython3",
   "version": "3.6.1"
  }
 },
 "nbformat": 4,
 "nbformat_minor": 2
}
